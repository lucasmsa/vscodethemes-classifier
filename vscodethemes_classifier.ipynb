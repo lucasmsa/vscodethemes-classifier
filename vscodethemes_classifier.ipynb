{
  "cells": [
    {
      "attachments": {},
      "cell_type": "markdown",
      "metadata": {
        "id": "AkGwcl54p23l"
      },
      "source": [
        "# 💻 Installing necessary libraries\n",
        "- `boto3` AWS operations\n",
        "- `efficientnet` Neural network used for image classification:"
      ]
    },
    {
      "cell_type": "code",
      "execution_count": null,
      "metadata": {
        "id": "Y01nMtobpsMn"
      },
      "outputs": [],
      "source": [
        "!pip install boto3\n",
        "!pip install efficientnet"
      ]
    },
    {
      "attachments": {},
      "cell_type": "markdown",
      "metadata": {
        "id": "KgxGdE16sMYH"
      },
      "source": [
        "# 🔒 Retrieving AWS Credentials and configuring S3 connection"
      ]
    },
    {
      "cell_type": "code",
      "execution_count": 7,
      "metadata": {
        "colab": {
          "base_uri": "https://localhost:8080/"
        },
        "id": "FRIQgV08qL1s",
        "outputId": "63630901-9e6e-4a82-d355-6312c68cbdbd"
      },
      "outputs": [
        {
          "name": "stdout",
          "output_type": "stream",
          "text": [
            "Drive already mounted at /content/drive; to attempt to forcibly remount, call drive.mount(\"/content/drive\", force_remount=True).\n"
          ]
        }
      ],
      "source": [
        "from google.colab import drive\n",
        "import boto3\n",
        "drive.mount('/content/drive')\n",
        "\n",
        "\n",
        "def get_credential_value(lines: list, line_number: int):\n",
        "    return lines[line_number].split('=')[1].strip()\n",
        "\n",
        "CREDENTIALS_PATH = '/content/drive/MyDrive/vscodethemes/credentials.txt'\n",
        "\n",
        "with open(CREDENTIALS_PATH, 'r') as credentials_file:\n",
        "    lines = credentials_file.readlines()\n",
        "\n",
        "    aws_access_key_id = get_credential_value(lines, 0)\n",
        "    aws_secret_access_key = get_credential_value(lines, 1)\n",
        "    aws_region_name = get_credential_value(lines, 2)\n",
        "    bucket_name = get_credential_value(lines, 3)\n",
        "\n",
        "s3_client = boto3.client(\n",
        "    service_name='s3',\n",
        "    region_name=aws_region_name,\n",
        "    aws_access_key_id=aws_access_key_id,\n",
        "    aws_secret_access_key=aws_secret_access_key\n",
        ")"
      ]
    },
    {
      "attachments": {},
      "cell_type": "markdown",
      "metadata": {
        "id": "KLEH3HdZyQ60"
      },
      "source": [
        "# 🞜 Downloading the themes stored on S3 "
      ]
    },
    {
      "cell_type": "code",
      "execution_count": null,
      "metadata": {
        "id": "VF150M4GtDca"
      },
      "outputs": [],
      "source": [
        "import os\n",
        "from tqdm import tqdm\n",
        "\n",
        "DATA_PATH = \"/content/data\"\n",
        "\n",
        "try:\n",
        "   os.makedirs(DATA_PATH)\n",
        "except FileExistsError:\n",
        "   pass\n",
        "\n",
        "def count_s3_bucket_objects(s3):\n",
        "    paginator = s3_client.get_paginator('list_objects')\n",
        "    counter = 0\n",
        "\n",
        "    for page in paginator.paginate(Bucket=bucket_name):\n",
        "        counter += len(page['Contents'])\n",
        "\n",
        "    return counter\n",
        "\n",
        "\n",
        "total_objects = count_s3_bucket_objects(s3_client)\n",
        "\n",
        "def get_all_s3_objects(s3, **base_kwargs):\n",
        "    continuation_token = None\n",
        "    while True:\n",
        "        list_kwargs = dict(MaxKeys=1000, **base_kwargs)\n",
        "        if continuation_token is not None:\n",
        "            list_kwargs[\"ContinuationToken\"] = continuation_token\n",
        "\n",
        "        themes_response = s3.list_objects_v2(**list_kwargs)\n",
        "        \n",
        "        yield from themes_response.get(\"Contents\", [])\n",
        "        \n",
        "        if not themes_response.get(\"IsTruncated\"):\n",
        "            break\n",
        "        \n",
        "        continuation_token = themes_response.get(\"NextContinuationToken\")\n",
        "\n",
        "for theme_object in tqdm(get_all_s3_objects(s3_client, Bucket=bucket_name), total=total_objects, desc='Downloading files'):\n",
        "    theme_official_name, file_name = theme_object[\"Key\"].split('/')\n",
        "    folder_local_path = f\"{DATA_PATH}/{theme_official_name}\"\n",
        "    os.makedirs(folder_local_path, exist_ok=True)\n",
        "    s3_client.download_file(bucket_name, theme_object[\"Key\"], f\"{folder_local_path}/{file_name}\")\n"
      ]
    }
  ],
  "metadata": {
    "accelerator": "GPU",
    "colab": {
      "gpuType": "T4",
      "provenance": []
    },
    "kernelspec": {
      "display_name": "Python 3",
      "name": "python3"
    },
    "language_info": {
      "name": "python"
    }
  },
  "nbformat": 4,
  "nbformat_minor": 0
}
