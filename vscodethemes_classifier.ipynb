{
  "nbformat": 4,
  "nbformat_minor": 0,
  "metadata": {
    "colab": {
      "provenance": [],
      "gpuType": "T4"
    },
    "kernelspec": {
      "name": "python3",
      "display_name": "Python 3"
    },
    "language_info": {
      "name": "python"
    },
    "accelerator": "GPU"
  },
  "cells": [
    {
      "cell_type": "markdown",
      "source": [
        "# 💻 Installing necessary libraries\n",
        "- `boto3` AWS operations\n",
        "- `efficientnet` Neural network used for image classification:"
      ],
      "metadata": {
        "id": "AkGwcl54p23l"
      }
    },
    {
      "cell_type": "code",
      "execution_count": null,
      "metadata": {
        "id": "Y01nMtobpsMn"
      },
      "outputs": [],
      "source": [
        "!pip install boto3\n",
        "!pip install efficientnet"
      ]
    },
    {
      "cell_type": "markdown",
      "source": [
        "# 🔒 Retrieving AWS Credentials and configuring S3 connection"
      ],
      "metadata": {
        "id": "KgxGdE16sMYH"
      }
    },
    {
      "cell_type": "code",
      "source": [
        "from google.colab import drive\n",
        "import boto3\n",
        "drive.mount('/content/drive')\n",
        "\n",
        "CREDENTIALS_PATH = ''\n",
        "\n",
        "def get_credential_value(lines: list, line_number: int):\n",
        "    return lines[line_number].split('=')[1].strip()\n",
        "\n",
        "with open(CREDENTIALS_PATH, 'r') as credentials_file:\n",
        "    lines = credentials_file.readlines()\n",
        "\n",
        "    aws_access_key_id = get_credential_value(lines, 0)\n",
        "    aws_secret_access_key = get_credential_value(lines, 1)\n",
        "    aws_region_name = get_credential_value(lines, 2)\n",
        "\n",
        "s3 = boto3.resource(\n",
        "    service_name='s3',\n",
        "    region_name=aws_region_name,\n",
        "    aws_access_key_id=aws_access_key_id,\n",
        "    aws_secret_access_key=aws_secret_access_key\n",
        ")"
      ],
      "metadata": {
        "colab": {
          "base_uri": "https://localhost:8080/"
        },
        "id": "FRIQgV08qL1s",
        "outputId": "63630901-9e6e-4a82-d355-6312c68cbdbd"
      },
      "execution_count": 7,
      "outputs": [
        {
          "output_type": "stream",
          "name": "stdout",
          "text": [
            "Drive already mounted at /content/drive; to attempt to forcibly remount, call drive.mount(\"/content/drive\", force_remount=True).\n"
          ]
        }
      ]
    },
    {
      "cell_type": "markdown",
      "source": [
        "# 🞜 Downloading the themes stored on S3 "
      ],
      "metadata": {
        "id": "KLEH3HdZyQ60"
      }
    },
    {
      "cell_type": "code",
      "source": [],
      "metadata": {
        "id": "VF150M4GtDca"
      },
      "execution_count": null,
      "outputs": []
    }
  ]
}